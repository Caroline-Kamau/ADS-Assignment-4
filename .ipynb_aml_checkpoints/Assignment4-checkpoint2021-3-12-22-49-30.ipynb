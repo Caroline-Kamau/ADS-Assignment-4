{
  "cells": [
    {
      "cell_type": "markdown",
      "source": [
        "# Assignment 4\r\n",
        "## Kaggle: Telco Customer Churn."
      ],
      "metadata": {
        "nteract": {
          "transient": {
            "deleting": false
          }
        }
      }
    },
    {
      "cell_type": "code",
      "source": [
        "#imports\r\n",
        "import pandas as pd\r\n",
        "#!pip install plotly\r\n",
        "import plotly.graph_objects as go\r\n",
        "import matplotlib.pyplot as plt\r\n",
        "import seaborn as sns"
      ],
      "outputs": [],
      "execution_count": 1,
      "metadata": {
        "collapsed": true,
        "jupyter": {
          "source_hidden": false,
          "outputs_hidden": false
        },
        "nteract": {
          "transient": {
            "deleting": false
          }
        },
        "gather": {
          "logged": 1618251078932
        }
      }
    },
    {
      "cell_type": "markdown",
      "source": [
        "## Loading the dataset"
      ],
      "metadata": {
        "nteract": {
          "transient": {
            "deleting": false
          }
        }
      }
    },
    {
      "cell_type": "code",
      "source": [
        "data = pd.read_csv(\"WA_Fn-UseC_-Telco-Customer-Churn.csv\")\r\n",
        "data.head(10)"
      ],
      "outputs": [
        {
          "output_type": "execute_result",
          "execution_count": 2,
          "data": {
            "text/plain": "   customerID  gender  SeniorCitizen Partner Dependents  tenure PhoneService  \\\n0  7590-VHVEG  Female              0     Yes         No       1           No   \n1  5575-GNVDE    Male              0      No         No      34          Yes   \n2  3668-QPYBK    Male              0      No         No       2          Yes   \n3  7795-CFOCW    Male              0      No         No      45           No   \n4  9237-HQITU  Female              0      No         No       2          Yes   \n5  9305-CDSKC  Female              0      No         No       8          Yes   \n6  1452-KIOVK    Male              0      No        Yes      22          Yes   \n7  6713-OKOMC  Female              0      No         No      10           No   \n8  7892-POOKP  Female              0     Yes         No      28          Yes   \n9  6388-TABGU    Male              0      No        Yes      62          Yes   \n\n      MultipleLines InternetService OnlineSecurity  ... DeviceProtection  \\\n0  No phone service             DSL             No  ...               No   \n1                No             DSL            Yes  ...              Yes   \n2                No             DSL            Yes  ...               No   \n3  No phone service             DSL            Yes  ...              Yes   \n4                No     Fiber optic             No  ...               No   \n5               Yes     Fiber optic             No  ...              Yes   \n6               Yes     Fiber optic             No  ...               No   \n7  No phone service             DSL            Yes  ...               No   \n8               Yes     Fiber optic             No  ...              Yes   \n9                No             DSL            Yes  ...               No   \n\n  TechSupport StreamingTV StreamingMovies        Contract PaperlessBilling  \\\n0          No          No              No  Month-to-month              Yes   \n1          No          No              No        One year               No   \n2          No          No              No  Month-to-month              Yes   \n3         Yes          No              No        One year               No   \n4          No          No              No  Month-to-month              Yes   \n5          No         Yes             Yes  Month-to-month              Yes   \n6          No         Yes              No  Month-to-month              Yes   \n7          No          No              No  Month-to-month               No   \n8         Yes         Yes             Yes  Month-to-month              Yes   \n9          No          No              No        One year               No   \n\n               PaymentMethod MonthlyCharges  TotalCharges Churn  \n0           Electronic check          29.85         29.85    No  \n1               Mailed check          56.95        1889.5    No  \n2               Mailed check          53.85        108.15   Yes  \n3  Bank transfer (automatic)          42.30       1840.75    No  \n4           Electronic check          70.70        151.65   Yes  \n5           Electronic check          99.65         820.5   Yes  \n6    Credit card (automatic)          89.10        1949.4    No  \n7               Mailed check          29.75         301.9    No  \n8           Electronic check         104.80       3046.05   Yes  \n9  Bank transfer (automatic)          56.15       3487.95    No  \n\n[10 rows x 21 columns]",
            "text/html": "<div>\n<style scoped>\n    .dataframe tbody tr th:only-of-type {\n        vertical-align: middle;\n    }\n\n    .dataframe tbody tr th {\n        vertical-align: top;\n    }\n\n    .dataframe thead th {\n        text-align: right;\n    }\n</style>\n<table border=\"1\" class=\"dataframe\">\n  <thead>\n    <tr style=\"text-align: right;\">\n      <th></th>\n      <th>customerID</th>\n      <th>gender</th>\n      <th>SeniorCitizen</th>\n      <th>Partner</th>\n      <th>Dependents</th>\n      <th>tenure</th>\n      <th>PhoneService</th>\n      <th>MultipleLines</th>\n      <th>InternetService</th>\n      <th>OnlineSecurity</th>\n      <th>...</th>\n      <th>DeviceProtection</th>\n      <th>TechSupport</th>\n      <th>StreamingTV</th>\n      <th>StreamingMovies</th>\n      <th>Contract</th>\n      <th>PaperlessBilling</th>\n      <th>PaymentMethod</th>\n      <th>MonthlyCharges</th>\n      <th>TotalCharges</th>\n      <th>Churn</th>\n    </tr>\n  </thead>\n  <tbody>\n    <tr>\n      <th>0</th>\n      <td>7590-VHVEG</td>\n      <td>Female</td>\n      <td>0</td>\n      <td>Yes</td>\n      <td>No</td>\n      <td>1</td>\n      <td>No</td>\n      <td>No phone service</td>\n      <td>DSL</td>\n      <td>No</td>\n      <td>...</td>\n      <td>No</td>\n      <td>No</td>\n      <td>No</td>\n      <td>No</td>\n      <td>Month-to-month</td>\n      <td>Yes</td>\n      <td>Electronic check</td>\n      <td>29.85</td>\n      <td>29.85</td>\n      <td>No</td>\n    </tr>\n    <tr>\n      <th>1</th>\n      <td>5575-GNVDE</td>\n      <td>Male</td>\n      <td>0</td>\n      <td>No</td>\n      <td>No</td>\n      <td>34</td>\n      <td>Yes</td>\n      <td>No</td>\n      <td>DSL</td>\n      <td>Yes</td>\n      <td>...</td>\n      <td>Yes</td>\n      <td>No</td>\n      <td>No</td>\n      <td>No</td>\n      <td>One year</td>\n      <td>No</td>\n      <td>Mailed check</td>\n      <td>56.95</td>\n      <td>1889.5</td>\n      <td>No</td>\n    </tr>\n    <tr>\n      <th>2</th>\n      <td>3668-QPYBK</td>\n      <td>Male</td>\n      <td>0</td>\n      <td>No</td>\n      <td>No</td>\n      <td>2</td>\n      <td>Yes</td>\n      <td>No</td>\n      <td>DSL</td>\n      <td>Yes</td>\n      <td>...</td>\n      <td>No</td>\n      <td>No</td>\n      <td>No</td>\n      <td>No</td>\n      <td>Month-to-month</td>\n      <td>Yes</td>\n      <td>Mailed check</td>\n      <td>53.85</td>\n      <td>108.15</td>\n      <td>Yes</td>\n    </tr>\n    <tr>\n      <th>3</th>\n      <td>7795-CFOCW</td>\n      <td>Male</td>\n      <td>0</td>\n      <td>No</td>\n      <td>No</td>\n      <td>45</td>\n      <td>No</td>\n      <td>No phone service</td>\n      <td>DSL</td>\n      <td>Yes</td>\n      <td>...</td>\n      <td>Yes</td>\n      <td>Yes</td>\n      <td>No</td>\n      <td>No</td>\n      <td>One year</td>\n      <td>No</td>\n      <td>Bank transfer (automatic)</td>\n      <td>42.30</td>\n      <td>1840.75</td>\n      <td>No</td>\n    </tr>\n    <tr>\n      <th>4</th>\n      <td>9237-HQITU</td>\n      <td>Female</td>\n      <td>0</td>\n      <td>No</td>\n      <td>No</td>\n      <td>2</td>\n      <td>Yes</td>\n      <td>No</td>\n      <td>Fiber optic</td>\n      <td>No</td>\n      <td>...</td>\n      <td>No</td>\n      <td>No</td>\n      <td>No</td>\n      <td>No</td>\n      <td>Month-to-month</td>\n      <td>Yes</td>\n      <td>Electronic check</td>\n      <td>70.70</td>\n      <td>151.65</td>\n      <td>Yes</td>\n    </tr>\n    <tr>\n      <th>5</th>\n      <td>9305-CDSKC</td>\n      <td>Female</td>\n      <td>0</td>\n      <td>No</td>\n      <td>No</td>\n      <td>8</td>\n      <td>Yes</td>\n      <td>Yes</td>\n      <td>Fiber optic</td>\n      <td>No</td>\n      <td>...</td>\n      <td>Yes</td>\n      <td>No</td>\n      <td>Yes</td>\n      <td>Yes</td>\n      <td>Month-to-month</td>\n      <td>Yes</td>\n      <td>Electronic check</td>\n      <td>99.65</td>\n      <td>820.5</td>\n      <td>Yes</td>\n    </tr>\n    <tr>\n      <th>6</th>\n      <td>1452-KIOVK</td>\n      <td>Male</td>\n      <td>0</td>\n      <td>No</td>\n      <td>Yes</td>\n      <td>22</td>\n      <td>Yes</td>\n      <td>Yes</td>\n      <td>Fiber optic</td>\n      <td>No</td>\n      <td>...</td>\n      <td>No</td>\n      <td>No</td>\n      <td>Yes</td>\n      <td>No</td>\n      <td>Month-to-month</td>\n      <td>Yes</td>\n      <td>Credit card (automatic)</td>\n      <td>89.10</td>\n      <td>1949.4</td>\n      <td>No</td>\n    </tr>\n    <tr>\n      <th>7</th>\n      <td>6713-OKOMC</td>\n      <td>Female</td>\n      <td>0</td>\n      <td>No</td>\n      <td>No</td>\n      <td>10</td>\n      <td>No</td>\n      <td>No phone service</td>\n      <td>DSL</td>\n      <td>Yes</td>\n      <td>...</td>\n      <td>No</td>\n      <td>No</td>\n      <td>No</td>\n      <td>No</td>\n      <td>Month-to-month</td>\n      <td>No</td>\n      <td>Mailed check</td>\n      <td>29.75</td>\n      <td>301.9</td>\n      <td>No</td>\n    </tr>\n    <tr>\n      <th>8</th>\n      <td>7892-POOKP</td>\n      <td>Female</td>\n      <td>0</td>\n      <td>Yes</td>\n      <td>No</td>\n      <td>28</td>\n      <td>Yes</td>\n      <td>Yes</td>\n      <td>Fiber optic</td>\n      <td>No</td>\n      <td>...</td>\n      <td>Yes</td>\n      <td>Yes</td>\n      <td>Yes</td>\n      <td>Yes</td>\n      <td>Month-to-month</td>\n      <td>Yes</td>\n      <td>Electronic check</td>\n      <td>104.80</td>\n      <td>3046.05</td>\n      <td>Yes</td>\n    </tr>\n    <tr>\n      <th>9</th>\n      <td>6388-TABGU</td>\n      <td>Male</td>\n      <td>0</td>\n      <td>No</td>\n      <td>Yes</td>\n      <td>62</td>\n      <td>Yes</td>\n      <td>No</td>\n      <td>DSL</td>\n      <td>Yes</td>\n      <td>...</td>\n      <td>No</td>\n      <td>No</td>\n      <td>No</td>\n      <td>No</td>\n      <td>One year</td>\n      <td>No</td>\n      <td>Bank transfer (automatic)</td>\n      <td>56.15</td>\n      <td>3487.95</td>\n      <td>No</td>\n    </tr>\n  </tbody>\n</table>\n<p>10 rows × 21 columns</p>\n</div>"
          },
          "metadata": {}
        }
      ],
      "execution_count": 2,
      "metadata": {
        "collapsed": true,
        "jupyter": {
          "source_hidden": false,
          "outputs_hidden": false
        },
        "nteract": {
          "transient": {
            "deleting": false
          }
        },
        "gather": {
          "logged": 1618251079462
        }
      }
    },
    {
      "cell_type": "code",
      "source": [
        "#number of rows and columns\r\n",
        "data.shape"
      ],
      "outputs": [
        {
          "output_type": "execute_result",
          "execution_count": 3,
          "data": {
            "text/plain": "(7043, 21)"
          },
          "metadata": {}
        }
      ],
      "execution_count": 3,
      "metadata": {
        "collapsed": true,
        "jupyter": {
          "source_hidden": false,
          "outputs_hidden": false
        },
        "nteract": {
          "transient": {
            "deleting": false
          }
        },
        "gather": {
          "logged": 1618251079866
        }
      }
    },
    {
      "cell_type": "code",
      "source": [
        "data.info()"
      ],
      "outputs": [
        {
          "output_type": "stream",
          "name": "stdout",
          "text": [
            "<class 'pandas.core.frame.DataFrame'>\n",
            "RangeIndex: 7043 entries, 0 to 7042\n",
            "Data columns (total 21 columns):\n",
            "customerID          7043 non-null object\n",
            "gender              7043 non-null object\n",
            "SeniorCitizen       7043 non-null int64\n",
            "Partner             7043 non-null object\n",
            "Dependents          7043 non-null object\n",
            "tenure              7043 non-null int64\n",
            "PhoneService        7043 non-null object\n",
            "MultipleLines       7043 non-null object\n",
            "InternetService     7043 non-null object\n",
            "OnlineSecurity      7043 non-null object\n",
            "OnlineBackup        7043 non-null object\n",
            "DeviceProtection    7043 non-null object\n",
            "TechSupport         7043 non-null object\n",
            "StreamingTV         7043 non-null object\n",
            "StreamingMovies     7043 non-null object\n",
            "Contract            7043 non-null object\n",
            "PaperlessBilling    7043 non-null object\n",
            "PaymentMethod       7043 non-null object\n",
            "MonthlyCharges      7043 non-null float64\n",
            "TotalCharges        7043 non-null object\n",
            "Churn               7043 non-null object\n",
            "dtypes: float64(1), int64(2), object(18)\n",
            "memory usage: 1.1+ MB\n"
          ]
        }
      ],
      "execution_count": 4,
      "metadata": {
        "collapsed": true,
        "jupyter": {
          "source_hidden": false,
          "outputs_hidden": false
        },
        "nteract": {
          "transient": {
            "deleting": false
          }
        },
        "gather": {
          "logged": 1618251080275
        }
      }
    },
    {
      "cell_type": "code",
      "source": [
        "data.describe()"
      ],
      "outputs": [
        {
          "output_type": "execute_result",
          "execution_count": 5,
          "data": {
            "text/plain": "       SeniorCitizen       tenure  MonthlyCharges\ncount    7043.000000  7043.000000     7043.000000\nmean        0.162147    32.371149       64.761692\nstd         0.368612    24.559481       30.090047\nmin         0.000000     0.000000       18.250000\n25%         0.000000     9.000000       35.500000\n50%         0.000000    29.000000       70.350000\n75%         0.000000    55.000000       89.850000\nmax         1.000000    72.000000      118.750000",
            "text/html": "<div>\n<style scoped>\n    .dataframe tbody tr th:only-of-type {\n        vertical-align: middle;\n    }\n\n    .dataframe tbody tr th {\n        vertical-align: top;\n    }\n\n    .dataframe thead th {\n        text-align: right;\n    }\n</style>\n<table border=\"1\" class=\"dataframe\">\n  <thead>\n    <tr style=\"text-align: right;\">\n      <th></th>\n      <th>SeniorCitizen</th>\n      <th>tenure</th>\n      <th>MonthlyCharges</th>\n    </tr>\n  </thead>\n  <tbody>\n    <tr>\n      <th>count</th>\n      <td>7043.000000</td>\n      <td>7043.000000</td>\n      <td>7043.000000</td>\n    </tr>\n    <tr>\n      <th>mean</th>\n      <td>0.162147</td>\n      <td>32.371149</td>\n      <td>64.761692</td>\n    </tr>\n    <tr>\n      <th>std</th>\n      <td>0.368612</td>\n      <td>24.559481</td>\n      <td>30.090047</td>\n    </tr>\n    <tr>\n      <th>min</th>\n      <td>0.000000</td>\n      <td>0.000000</td>\n      <td>18.250000</td>\n    </tr>\n    <tr>\n      <th>25%</th>\n      <td>0.000000</td>\n      <td>9.000000</td>\n      <td>35.500000</td>\n    </tr>\n    <tr>\n      <th>50%</th>\n      <td>0.000000</td>\n      <td>29.000000</td>\n      <td>70.350000</td>\n    </tr>\n    <tr>\n      <th>75%</th>\n      <td>0.000000</td>\n      <td>55.000000</td>\n      <td>89.850000</td>\n    </tr>\n    <tr>\n      <th>max</th>\n      <td>1.000000</td>\n      <td>72.000000</td>\n      <td>118.750000</td>\n    </tr>\n  </tbody>\n</table>\n</div>"
          },
          "metadata": {}
        }
      ],
      "execution_count": 5,
      "metadata": {
        "collapsed": true,
        "jupyter": {
          "source_hidden": false,
          "outputs_hidden": false
        },
        "nteract": {
          "transient": {
            "deleting": false
          }
        },
        "gather": {
          "logged": 1618251080662
        }
      }
    },
    {
      "cell_type": "code",
      "source": [
        "#dataset columns\r\n",
        "data.columns"
      ],
      "outputs": [
        {
          "output_type": "execute_result",
          "execution_count": 6,
          "data": {
            "text/plain": "Index(['customerID', 'gender', 'SeniorCitizen', 'Partner', 'Dependents',\n       'tenure', 'PhoneService', 'MultipleLines', 'InternetService',\n       'OnlineSecurity', 'OnlineBackup', 'DeviceProtection', 'TechSupport',\n       'StreamingTV', 'StreamingMovies', 'Contract', 'PaperlessBilling',\n       'PaymentMethod', 'MonthlyCharges', 'TotalCharges', 'Churn'],\n      dtype='object')"
          },
          "metadata": {}
        }
      ],
      "execution_count": 6,
      "metadata": {
        "collapsed": true,
        "jupyter": {
          "source_hidden": false,
          "outputs_hidden": false
        },
        "nteract": {
          "transient": {
            "deleting": false
          }
        },
        "gather": {
          "logged": 1618251080984
        }
      }
    },
    {
      "cell_type": "markdown",
      "source": [
        "## 1.Demographic"
      ],
      "metadata": {
        "nteract": {
          "transient": {
            "deleting": false
          }
        }
      }
    },
    {
      "cell_type": "markdown",
      "source": [
        "### a. Which 2 demographics have proven to be the most popular with the telco brand?\r\n",
        "### b.If the marketing team wanted to increase customer retention, to whom should they targettheir advertisements to?"
      ],
      "metadata": {
        "nteract": {
          "transient": {
            "deleting": false
          }
        }
      }
    },
    {
      "cell_type": "code",
      "source": [
        "#demographics can be represented by gender, SeniorCitizen, Partner,  and Dependents columns\r\n",
        "demographics = data[['customerID','gender', 'SeniorCitizen', 'Partner', 'Dependents','Churn']]\r\n",
        "demographics"
      ],
      "outputs": [
        {
          "output_type": "execute_result",
          "execution_count": 7,
          "data": {
            "text/plain": "      customerID  gender  SeniorCitizen Partner Dependents Churn\n0     7590-VHVEG  Female              0     Yes         No    No\n1     5575-GNVDE    Male              0      No         No    No\n2     3668-QPYBK    Male              0      No         No   Yes\n3     7795-CFOCW    Male              0      No         No    No\n4     9237-HQITU  Female              0      No         No   Yes\n...          ...     ...            ...     ...        ...   ...\n7038  6840-RESVB    Male              0     Yes        Yes    No\n7039  2234-XADUH  Female              0     Yes        Yes    No\n7040  4801-JZAZL  Female              0     Yes        Yes    No\n7041  8361-LTMKD    Male              1     Yes         No   Yes\n7042  3186-AJIEK    Male              0      No         No    No\n\n[7043 rows x 6 columns]",
            "text/html": "<div>\n<style scoped>\n    .dataframe tbody tr th:only-of-type {\n        vertical-align: middle;\n    }\n\n    .dataframe tbody tr th {\n        vertical-align: top;\n    }\n\n    .dataframe thead th {\n        text-align: right;\n    }\n</style>\n<table border=\"1\" class=\"dataframe\">\n  <thead>\n    <tr style=\"text-align: right;\">\n      <th></th>\n      <th>customerID</th>\n      <th>gender</th>\n      <th>SeniorCitizen</th>\n      <th>Partner</th>\n      <th>Dependents</th>\n      <th>Churn</th>\n    </tr>\n  </thead>\n  <tbody>\n    <tr>\n      <th>0</th>\n      <td>7590-VHVEG</td>\n      <td>Female</td>\n      <td>0</td>\n      <td>Yes</td>\n      <td>No</td>\n      <td>No</td>\n    </tr>\n    <tr>\n      <th>1</th>\n      <td>5575-GNVDE</td>\n      <td>Male</td>\n      <td>0</td>\n      <td>No</td>\n      <td>No</td>\n      <td>No</td>\n    </tr>\n    <tr>\n      <th>2</th>\n      <td>3668-QPYBK</td>\n      <td>Male</td>\n      <td>0</td>\n      <td>No</td>\n      <td>No</td>\n      <td>Yes</td>\n    </tr>\n    <tr>\n      <th>3</th>\n      <td>7795-CFOCW</td>\n      <td>Male</td>\n      <td>0</td>\n      <td>No</td>\n      <td>No</td>\n      <td>No</td>\n    </tr>\n    <tr>\n      <th>4</th>\n      <td>9237-HQITU</td>\n      <td>Female</td>\n      <td>0</td>\n      <td>No</td>\n      <td>No</td>\n      <td>Yes</td>\n    </tr>\n    <tr>\n      <th>...</th>\n      <td>...</td>\n      <td>...</td>\n      <td>...</td>\n      <td>...</td>\n      <td>...</td>\n      <td>...</td>\n    </tr>\n    <tr>\n      <th>7038</th>\n      <td>6840-RESVB</td>\n      <td>Male</td>\n      <td>0</td>\n      <td>Yes</td>\n      <td>Yes</td>\n      <td>No</td>\n    </tr>\n    <tr>\n      <th>7039</th>\n      <td>2234-XADUH</td>\n      <td>Female</td>\n      <td>0</td>\n      <td>Yes</td>\n      <td>Yes</td>\n      <td>No</td>\n    </tr>\n    <tr>\n      <th>7040</th>\n      <td>4801-JZAZL</td>\n      <td>Female</td>\n      <td>0</td>\n      <td>Yes</td>\n      <td>Yes</td>\n      <td>No</td>\n    </tr>\n    <tr>\n      <th>7041</th>\n      <td>8361-LTMKD</td>\n      <td>Male</td>\n      <td>1</td>\n      <td>Yes</td>\n      <td>No</td>\n      <td>Yes</td>\n    </tr>\n    <tr>\n      <th>7042</th>\n      <td>3186-AJIEK</td>\n      <td>Male</td>\n      <td>0</td>\n      <td>No</td>\n      <td>No</td>\n      <td>No</td>\n    </tr>\n  </tbody>\n</table>\n<p>7043 rows × 6 columns</p>\n</div>"
          },
          "metadata": {}
        }
      ],
      "execution_count": 7,
      "metadata": {
        "collapsed": true,
        "jupyter": {
          "source_hidden": false,
          "outputs_hidden": false
        },
        "nteract": {
          "transient": {
            "deleting": false
          }
        },
        "gather": {
          "logged": 1618251081402
        }
      }
    },
    {
      "cell_type": "code",
      "source": [
        "#Gender\r\n",
        "axs=sns.catplot(x=\"gender\", hue=\"Churn\", data=demographics, kind='count',height=8.27, aspect=11.7/8.27)\r\n",
        "plt.title ('Churn by Gender')\r\n"
      ],
      "outputs": [
        {
          "output_type": "execute_result",
          "execution_count": 8,
          "data": {
            "text/plain": "Text(0.5, 1.0, 'Churn by Gender')"
          },
          "metadata": {}
        },
        {
          "output_type": "display_data",
          "data": {
            "text/plain": "<Figure size 894.4x595.44 with 1 Axes>",
            "image/png": "[encoded data removed]"
          },
          "metadata": {
            "needs_background": "light"
          }
        }
      ],
      "execution_count": 8,
      "metadata": {
        "collapsed": true,
        "jupyter": {
          "source_hidden": false,
          "outputs_hidden": false
        },
        "nteract": {
          "transient": {
            "deleting": false
          }
        },
        "gather": {
          "logged": 1618251081935
        }
      }
    },
    {
      "cell_type": "markdown",
      "source": [
        "For both Male and Female there seems to be no major difference in the Churn "
      ],
      "metadata": {
        "nteract": {
          "transient": {
            "deleting": false
          }
        }
      }
    },
    {
      "cell_type": "code",
      "source": [
        "#Senior Citizen\r\n",
        "ax1=sns.catplot(x=\"SeniorCitizen\", hue=\"Churn\", data=demographics, kind='count',height=8.27, aspect=11.7/8.27)\r\n",
        "plt.title ('Churn by Senior Citizen')"
      ],
      "outputs": [
        {
          "output_type": "execute_result",
          "execution_count": 9,
          "data": {
            "text/plain": "Text(0.5, 1.0, 'Churn by Senior Citizen')"
          },
          "metadata": {}
        },
        {
          "output_type": "display_data",
          "data": {
            "text/plain": "<Figure size 894.4x595.44 with 1 Axes>",
            "image/png": "[encoded data removed]"
          },
          "metadata": {
            "needs_background": "light"
          }
        }
      ],
      "execution_count": 9,
      "metadata": {
        "collapsed": true,
        "jupyter": {
          "source_hidden": false,
          "outputs_hidden": false
        },
        "nteract": {
          "transient": {
            "deleting": false
          }
        },
        "gather": {
          "logged": 1618251082296
        }
      }
    },
    {
      "cell_type": "markdown",
      "source": [
        "The number of none senior citizens is higher than senior citizens. The churn rate in older customers ,i.e. senior citizens, is higher than in younger customers.\r\n"
      ],
      "metadata": {
        "nteract": {
          "transient": {
            "deleting": false
          }
        }
      }
    },
    {
      "cell_type": "code",
      "source": [
        "#Partner\r\n",
        "ax1=sns.catplot(x=\"Partner\", hue=\"Churn\", data=demographics, kind='count',height=8.27, aspect=11.7/8.27)\r\n",
        "plt.title ('Churn by Partner')"
      ],
      "outputs": [
        {
          "output_type": "execute_result",
          "execution_count": 10,
          "data": {
            "text/plain": "Text(0.5, 1.0, 'Churn by Partner')"
          },
          "metadata": {}
        },
        {
          "output_type": "display_data",
          "data": {
            "text/plain": "<Figure size 894.4x595.44 with 1 Axes>",
            "image/png": "[encoded data removed]"
          },
          "metadata": {
            "needs_background": "light"
          }
        }
      ],
      "execution_count": 10,
      "metadata": {
        "collapsed": true,
        "jupyter": {
          "source_hidden": false,
          "outputs_hidden": false
        },
        "nteract": {
          "transient": {
            "deleting": false
          }
        },
        "gather": {
          "logged": 1618251082894
        }
      }
    },
    {
      "cell_type": "markdown",
      "source": [
        "Churn is slightly higher in customers without partners"
      ],
      "metadata": {
        "nteract": {
          "transient": {
            "deleting": false
          }
        }
      }
    },
    {
      "cell_type": "code",
      "source": [
        "#Dependents\r\n",
        "ax1=sns.catplot(x=\"Dependents\", hue=\"Churn\", data=demographics, kind='count',height=8.27, aspect=11.7/8.27)\r\n",
        "plt.title ('Churn by Dependents')"
      ],
      "outputs": [
        {
          "output_type": "execute_result",
          "execution_count": 11,
          "data": {
            "text/plain": "Text(0.5, 1.0, 'Churn by Dependents')"
          },
          "metadata": {}
        },
        {
          "output_type": "display_data",
          "data": {
            "text/plain": "<Figure size 894.4x595.44 with 1 Axes>",
            "image/png": "[encoded data removed]"
          },
          "metadata": {
            "needs_background": "light"
          }
        }
      ],
      "execution_count": 11,
      "metadata": {
        "collapsed": true,
        "jupyter": {
          "source_hidden": false,
          "outputs_hidden": false
        },
        "nteract": {
          "transient": {
            "deleting": false
          }
        },
        "gather": {
          "logged": 1618251083518
        }
      }
    },
    {
      "cell_type": "markdown",
      "source": [
        "Majority of the customer base have no dependents. the percentage of customers who churn is more in those with dependents than in those without."
      ],
      "metadata": {
        "nteract": {
          "transient": {
            "deleting": false
          }
        }
      }
    },
    {
      "cell_type": "markdown",
      "source": [
        "#### a. The most popular demographics are dependents and Senior Citizen which is an indication of age as they have a significant impact on age.\r\n",
        "#### b. The marketing team should target their advertisements on senior citizens and on customers without dependents to increase customer retention. "
      ],
      "metadata": {
        "nteract": {
          "transient": {
            "deleting": false
          }
        }
      }
    },
    {
      "cell_type": "markdown",
      "source": [
        "## Services"
      ],
      "metadata": {
        "nteract": {
          "transient": {
            "deleting": false
          }
        }
      }
    },
    {
      "cell_type": "markdown",
      "source": [
        "### a. Which 3 services  are  contributing  to  a  higher  monthly  charge  and  resulting  to customers churning?(Use visualizations in explaining your analysis"
      ],
      "metadata": {
        "nteract": {
          "transient": {
            "deleting": false
          }
        }
      }
    },
    {
      "cell_type": "code",
      "source": [
        "df_services = data[['PhoneService', 'MultipleLines', 'InternetService',\r\n",
        "       'OnlineSecurity', 'OnlineBackup', 'DeviceProtection', 'TechSupport',\r\n",
        "       'StreamingTV', 'StreamingMovies', 'MonthlyCharges']]\r\n",
        "df_services"
      ],
      "outputs": [
        {
          "output_type": "execute_result",
          "execution_count": 33,
          "data": {
            "text/plain": "     PhoneService     MultipleLines InternetService OnlineSecurity  \\\n0              No  No phone service             DSL             No   \n1             Yes                No             DSL            Yes   \n2             Yes                No             DSL            Yes   \n3              No  No phone service             DSL            Yes   \n4             Yes                No     Fiber optic             No   \n...           ...               ...             ...            ...   \n7038          Yes               Yes             DSL            Yes   \n7039          Yes               Yes     Fiber optic             No   \n7040           No  No phone service             DSL            Yes   \n7041          Yes               Yes     Fiber optic             No   \n7042          Yes                No     Fiber optic            Yes   \n\n     OnlineBackup DeviceProtection TechSupport StreamingTV StreamingMovies  \\\n0             Yes               No          No          No              No   \n1              No              Yes          No          No              No   \n2             Yes               No          No          No              No   \n3              No              Yes         Yes          No              No   \n4              No               No          No          No              No   \n...           ...              ...         ...         ...             ...   \n7038           No              Yes         Yes         Yes             Yes   \n7039          Yes              Yes          No         Yes             Yes   \n7040           No               No          No          No              No   \n7041           No               No          No          No              No   \n7042           No              Yes         Yes         Yes             Yes   \n\n      MonthlyCharges  \n0              29.85  \n1              56.95  \n2              53.85  \n3              42.30  \n4              70.70  \n...              ...  \n7038           84.80  \n7039          103.20  \n7040           29.60  \n7041           74.40  \n7042          105.65  \n\n[7043 rows x 10 columns]",
            "text/html": "<div>\n<style scoped>\n    .dataframe tbody tr th:only-of-type {\n        vertical-align: middle;\n    }\n\n    .dataframe tbody tr th {\n        vertical-align: top;\n    }\n\n    .dataframe thead th {\n        text-align: right;\n    }\n</style>\n<table border=\"1\" class=\"dataframe\">\n  <thead>\n    <tr style=\"text-align: right;\">\n      <th></th>\n      <th>PhoneService</th>\n      <th>MultipleLines</th>\n      <th>InternetService</th>\n      <th>OnlineSecurity</th>\n      <th>OnlineBackup</th>\n      <th>DeviceProtection</th>\n      <th>TechSupport</th>\n      <th>StreamingTV</th>\n      <th>StreamingMovies</th>\n      <th>MonthlyCharges</th>\n    </tr>\n  </thead>\n  <tbody>\n    <tr>\n      <th>0</th>\n      <td>No</td>\n      <td>No phone service</td>\n      <td>DSL</td>\n      <td>No</td>\n      <td>Yes</td>\n      <td>No</td>\n      <td>No</td>\n      <td>No</td>\n      <td>No</td>\n      <td>29.85</td>\n    </tr>\n    <tr>\n      <th>1</th>\n      <td>Yes</td>\n      <td>No</td>\n      <td>DSL</td>\n      <td>Yes</td>\n      <td>No</td>\n      <td>Yes</td>\n      <td>No</td>\n      <td>No</td>\n      <td>No</td>\n      <td>56.95</td>\n    </tr>\n    <tr>\n      <th>2</th>\n      <td>Yes</td>\n      <td>No</td>\n      <td>DSL</td>\n      <td>Yes</td>\n      <td>Yes</td>\n      <td>No</td>\n      <td>No</td>\n      <td>No</td>\n      <td>No</td>\n      <td>53.85</td>\n    </tr>\n    <tr>\n      <th>3</th>\n      <td>No</td>\n      <td>No phone service</td>\n      <td>DSL</td>\n      <td>Yes</td>\n      <td>No</td>\n      <td>Yes</td>\n      <td>Yes</td>\n      <td>No</td>\n      <td>No</td>\n      <td>42.30</td>\n    </tr>\n    <tr>\n      <th>4</th>\n      <td>Yes</td>\n      <td>No</td>\n      <td>Fiber optic</td>\n      <td>No</td>\n      <td>No</td>\n      <td>No</td>\n      <td>No</td>\n      <td>No</td>\n      <td>No</td>\n      <td>70.70</td>\n    </tr>\n    <tr>\n      <th>...</th>\n      <td>...</td>\n      <td>...</td>\n      <td>...</td>\n      <td>...</td>\n      <td>...</td>\n      <td>...</td>\n      <td>...</td>\n      <td>...</td>\n      <td>...</td>\n      <td>...</td>\n    </tr>\n    <tr>\n      <th>7038</th>\n      <td>Yes</td>\n      <td>Yes</td>\n      <td>DSL</td>\n      <td>Yes</td>\n      <td>No</td>\n      <td>Yes</td>\n      <td>Yes</td>\n      <td>Yes</td>\n      <td>Yes</td>\n      <td>84.80</td>\n    </tr>\n    <tr>\n      <th>7039</th>\n      <td>Yes</td>\n      <td>Yes</td>\n      <td>Fiber optic</td>\n      <td>No</td>\n      <td>Yes</td>\n      <td>Yes</td>\n      <td>No</td>\n      <td>Yes</td>\n      <td>Yes</td>\n      <td>103.20</td>\n    </tr>\n    <tr>\n      <th>7040</th>\n      <td>No</td>\n      <td>No phone service</td>\n      <td>DSL</td>\n      <td>Yes</td>\n      <td>No</td>\n      <td>No</td>\n      <td>No</td>\n      <td>No</td>\n      <td>No</td>\n      <td>29.60</td>\n    </tr>\n    <tr>\n      <th>7041</th>\n      <td>Yes</td>\n      <td>Yes</td>\n      <td>Fiber optic</td>\n      <td>No</td>\n      <td>No</td>\n      <td>No</td>\n      <td>No</td>\n      <td>No</td>\n      <td>No</td>\n      <td>74.40</td>\n    </tr>\n    <tr>\n      <th>7042</th>\n      <td>Yes</td>\n      <td>No</td>\n      <td>Fiber optic</td>\n      <td>Yes</td>\n      <td>No</td>\n      <td>Yes</td>\n      <td>Yes</td>\n      <td>Yes</td>\n      <td>Yes</td>\n      <td>105.65</td>\n    </tr>\n  </tbody>\n</table>\n<p>7043 rows × 10 columns</p>\n</div>"
          },
          "metadata": {}
        }
      ],
      "execution_count": 33,
      "metadata": {
        "collapsed": true,
        "jupyter": {
          "source_hidden": false,
          "outputs_hidden": false
        },
        "nteract": {
          "transient": {
            "deleting": false
          }
        },
        "gather": {
          "logged": 1618253368775
        }
      }
    },
    {
      "cell_type": "code",
      "source": [
        "#changing service variables to be categorical\r\n",
        "services=['PhoneService', 'MultipleLines', 'InternetService',\r\n",
        "       'OnlineSecurity', 'OnlineBackup', 'DeviceProtection', 'TechSupport',\r\n",
        "       'StreamingTV', 'StreamingMovies']\r\n",
        "df_services[services]=df_services[services].astype('category')\r\n",
        "df_services.dtypes\r\n"
      ],
      "outputs": [
        {
          "output_type": "stream",
          "name": "stderr",
          "text": [
            "/anaconda/envs/azureml_py36/lib/python3.6/site-packages/pandas/core/frame.py:3509: SettingWithCopyWarning:\n",
            "\n",
            "\n",
            "A value is trying to be set on a copy of a slice from a DataFrame.\n",
            "Try using .loc[row_indexer,col_indexer] = value instead\n",
            "\n",
            "See the caveats in the documentation: http://pandas.pydata.org/pandas-docs/stable/user_guide/indexing.html#returning-a-view-versus-a-copy\n",
            "\n"
          ]
        },
        {
          "output_type": "execute_result",
          "execution_count": 38,
          "data": {
            "text/plain": "PhoneService        category\nMultipleLines       category\nInternetService     category\nOnlineSecurity      category\nOnlineBackup        category\nDeviceProtection    category\nTechSupport         category\nStreamingTV         category\nStreamingMovies     category\nMonthlyCharges       float64\ndtype: object"
          },
          "metadata": {}
        }
      ],
      "execution_count": 38,
      "metadata": {
        "collapsed": true,
        "jupyter": {
          "source_hidden": false,
          "outputs_hidden": false
        },
        "nteract": {
          "transient": {
            "deleting": false
          }
        },
        "gather": {
          "logged": 1618253475435
        }
      }
    },
    {
      "cell_type": "code",
      "source": [
        "#encoding service variables\r\n",
        "from sklearn.preprocessing import LabelEncoder\r\n",
        "labelencoder = LabelEncoder()\r\n",
        "\r\n",
        "for i in services: \r\n",
        "    df_services[i] = labelencoder.fit_transform(df_services[i])\r\n",
        "df_services"
      ],
      "outputs": [
        {
          "output_type": "stream",
          "name": "stderr",
          "text": [
            "/anaconda/envs/azureml_py36/lib/python3.6/site-packages/ipykernel_launcher.py:6: SettingWithCopyWarning:\n",
            "\n",
            "\n",
            "A value is trying to be set on a copy of a slice from a DataFrame.\n",
            "Try using .loc[row_indexer,col_indexer] = value instead\n",
            "\n",
            "See the caveats in the documentation: http://pandas.pydata.org/pandas-docs/stable/user_guide/indexing.html#returning-a-view-versus-a-copy\n",
            "\n"
          ]
        },
        {
          "output_type": "execute_result",
          "execution_count": 43,
          "data": {
            "text/plain": "      PhoneService  MultipleLines  InternetService  OnlineSecurity  \\\n0                0              1                0               0   \n1                1              0                0               2   \n2                1              0                0               2   \n3                0              1                0               2   \n4                1              0                1               0   \n...            ...            ...              ...             ...   \n7038             1              2                0               2   \n7039             1              2                1               0   \n7040             0              1                0               2   \n7041             1              2                1               0   \n7042             1              0                1               2   \n\n      OnlineBackup  DeviceProtection  TechSupport  StreamingTV  \\\n0                2                 0            0            0   \n1                0                 2            0            0   \n2                2                 0            0            0   \n3                0                 2            2            0   \n4                0                 0            0            0   \n...            ...               ...          ...          ...   \n7038             0                 2            2            2   \n7039             2                 2            0            2   \n7040             0                 0            0            0   \n7041             0                 0            0            0   \n7042             0                 2            2            2   \n\n      StreamingMovies  MonthlyCharges  \n0                   0           29.85  \n1                   0           56.95  \n2                   0           53.85  \n3                   0           42.30  \n4                   0           70.70  \n...               ...             ...  \n7038                2           84.80  \n7039                2          103.20  \n7040                0           29.60  \n7041                0           74.40  \n7042                2          105.65  \n\n[7043 rows x 10 columns]",
            "text/html": "<div>\n<style scoped>\n    .dataframe tbody tr th:only-of-type {\n        vertical-align: middle;\n    }\n\n    .dataframe tbody tr th {\n        vertical-align: top;\n    }\n\n    .dataframe thead th {\n        text-align: right;\n    }\n</style>\n<table border=\"1\" class=\"dataframe\">\n  <thead>\n    <tr style=\"text-align: right;\">\n      <th></th>\n      <th>PhoneService</th>\n      <th>MultipleLines</th>\n      <th>InternetService</th>\n      <th>OnlineSecurity</th>\n      <th>OnlineBackup</th>\n      <th>DeviceProtection</th>\n      <th>TechSupport</th>\n      <th>StreamingTV</th>\n      <th>StreamingMovies</th>\n      <th>MonthlyCharges</th>\n    </tr>\n  </thead>\n  <tbody>\n    <tr>\n      <th>0</th>\n      <td>0</td>\n      <td>1</td>\n      <td>0</td>\n      <td>0</td>\n      <td>2</td>\n      <td>0</td>\n      <td>0</td>\n      <td>0</td>\n      <td>0</td>\n      <td>29.85</td>\n    </tr>\n    <tr>\n      <th>1</th>\n      <td>1</td>\n      <td>0</td>\n      <td>0</td>\n      <td>2</td>\n      <td>0</td>\n      <td>2</td>\n      <td>0</td>\n      <td>0</td>\n      <td>0</td>\n      <td>56.95</td>\n    </tr>\n    <tr>\n      <th>2</th>\n      <td>1</td>\n      <td>0</td>\n      <td>0</td>\n      <td>2</td>\n      <td>2</td>\n      <td>0</td>\n      <td>0</td>\n      <td>0</td>\n      <td>0</td>\n      <td>53.85</td>\n    </tr>\n    <tr>\n      <th>3</th>\n      <td>0</td>\n      <td>1</td>\n      <td>0</td>\n      <td>2</td>\n      <td>0</td>\n      <td>2</td>\n      <td>2</td>\n      <td>0</td>\n      <td>0</td>\n      <td>42.30</td>\n    </tr>\n    <tr>\n      <th>4</th>\n      <td>1</td>\n      <td>0</td>\n      <td>1</td>\n      <td>0</td>\n      <td>0</td>\n      <td>0</td>\n      <td>0</td>\n      <td>0</td>\n      <td>0</td>\n      <td>70.70</td>\n    </tr>\n    <tr>\n      <th>...</th>\n      <td>...</td>\n      <td>...</td>\n      <td>...</td>\n      <td>...</td>\n      <td>...</td>\n      <td>...</td>\n      <td>...</td>\n      <td>...</td>\n      <td>...</td>\n      <td>...</td>\n    </tr>\n    <tr>\n      <th>7038</th>\n      <td>1</td>\n      <td>2</td>\n      <td>0</td>\n      <td>2</td>\n      <td>0</td>\n      <td>2</td>\n      <td>2</td>\n      <td>2</td>\n      <td>2</td>\n      <td>84.80</td>\n    </tr>\n    <tr>\n      <th>7039</th>\n      <td>1</td>\n      <td>2</td>\n      <td>1</td>\n      <td>0</td>\n      <td>2</td>\n      <td>2</td>\n      <td>0</td>\n      <td>2</td>\n      <td>2</td>\n      <td>103.20</td>\n    </tr>\n    <tr>\n      <th>7040</th>\n      <td>0</td>\n      <td>1</td>\n      <td>0</td>\n      <td>2</td>\n      <td>0</td>\n      <td>0</td>\n      <td>0</td>\n      <td>0</td>\n      <td>0</td>\n      <td>29.60</td>\n    </tr>\n    <tr>\n      <th>7041</th>\n      <td>1</td>\n      <td>2</td>\n      <td>1</td>\n      <td>0</td>\n      <td>0</td>\n      <td>0</td>\n      <td>0</td>\n      <td>0</td>\n      <td>0</td>\n      <td>74.40</td>\n    </tr>\n    <tr>\n      <th>7042</th>\n      <td>1</td>\n      <td>0</td>\n      <td>1</td>\n      <td>2</td>\n      <td>0</td>\n      <td>2</td>\n      <td>2</td>\n      <td>2</td>\n      <td>2</td>\n      <td>105.65</td>\n    </tr>\n  </tbody>\n</table>\n<p>7043 rows × 10 columns</p>\n</div>"
          },
          "metadata": {}
        }
      ],
      "execution_count": 43,
      "metadata": {
        "collapsed": true,
        "jupyter": {
          "source_hidden": false,
          "outputs_hidden": false
        },
        "nteract": {
          "transient": {
            "deleting": false
          }
        },
        "gather": {
          "logged": 1618254443896
        }
      }
    },
    {
      "cell_type": "code",
      "source": [
        "sns.heatmap(df_services.corr());"
      ],
      "outputs": [
        {
          "output_type": "display_data",
          "data": {
            "text/plain": "<Figure size 432x288 with 2 Axes>",
            "image/png": "[encoded data removed]"
          },
          "metadata": {
            "needs_background": "light"
          }
        }
      ],
      "execution_count": 45,
      "metadata": {
        "collapsed": true,
        "jupyter": {
          "source_hidden": false,
          "outputs_hidden": false
        },
        "nteract": {
          "transient": {
            "deleting": false
          }
        },
        "gather": {
          "logged": 1618254619534
        }
      }
    },
    {
      "cell_type": "code",
      "source": [
        "df_services.corr()"
      ],
      "outputs": [
        {
          "output_type": "execute_result",
          "execution_count": 46,
          "data": {
            "text/plain": "                  PhoneService  MultipleLines  InternetService  \\\nPhoneService          1.000000      -0.020538         0.387436   \nMultipleLines        -0.020538       1.000000        -0.109216   \nInternetService       0.387436      -0.109216         1.000000   \nOnlineSecurity       -0.015198       0.007141        -0.028416   \nOnlineBackup          0.024105       0.117327         0.036138   \nDeviceProtection      0.003727       0.122318         0.044944   \nTechSupport          -0.019158       0.011466        -0.026047   \nStreamingTV           0.055353       0.175059         0.107417   \nStreamingMovies       0.043870       0.180957         0.098350   \nMonthlyCharges        0.247398       0.433576        -0.323260   \n\n                  OnlineSecurity  OnlineBackup  DeviceProtection  TechSupport  \\\nPhoneService           -0.015198      0.024105          0.003727    -0.019158   \nMultipleLines           0.007141      0.117327          0.122318     0.011466   \nInternetService        -0.028416      0.036138          0.044944    -0.026047   \nOnlineSecurity          1.000000      0.185126          0.175985     0.285028   \nOnlineBackup            0.185126      1.000000          0.187757     0.195748   \nDeviceProtection        0.175985      0.187757          1.000000     0.240593   \nTechSupport             0.285028      0.195748          0.240593     1.000000   \nStreamingTV             0.044669      0.147186          0.276652     0.161305   \nStreamingMovies         0.055954      0.136722          0.288799     0.161316   \nMonthlyCharges         -0.053878      0.119777          0.163652    -0.008682   \n\n                  StreamingTV  StreamingMovies  MonthlyCharges  \nPhoneService         0.055353         0.043870        0.247398  \nMultipleLines        0.175059         0.180957        0.433576  \nInternetService      0.107417         0.098350       -0.323260  \nOnlineSecurity       0.044669         0.055954       -0.053878  \nOnlineBackup         0.147186         0.136722        0.119777  \nDeviceProtection     0.276652         0.288799        0.163652  \nTechSupport          0.161305         0.161316       -0.008682  \nStreamingTV          1.000000         0.434772        0.336706  \nStreamingMovies      0.434772         1.000000        0.335459  \nMonthlyCharges       0.336706         0.335459        1.000000  ",
            "text/html": "<div>\n<style scoped>\n    .dataframe tbody tr th:only-of-type {\n        vertical-align: middle;\n    }\n\n    .dataframe tbody tr th {\n        vertical-align: top;\n    }\n\n    .dataframe thead th {\n        text-align: right;\n    }\n</style>\n<table border=\"1\" class=\"dataframe\">\n  <thead>\n    <tr style=\"text-align: right;\">\n      <th></th>\n      <th>PhoneService</th>\n      <th>MultipleLines</th>\n      <th>InternetService</th>\n      <th>OnlineSecurity</th>\n      <th>OnlineBackup</th>\n      <th>DeviceProtection</th>\n      <th>TechSupport</th>\n      <th>StreamingTV</th>\n      <th>StreamingMovies</th>\n      <th>MonthlyCharges</th>\n    </tr>\n  </thead>\n  <tbody>\n    <tr>\n      <th>PhoneService</th>\n      <td>1.000000</td>\n      <td>-0.020538</td>\n      <td>0.387436</td>\n      <td>-0.015198</td>\n      <td>0.024105</td>\n      <td>0.003727</td>\n      <td>-0.019158</td>\n      <td>0.055353</td>\n      <td>0.043870</td>\n      <td>0.247398</td>\n    </tr>\n    <tr>\n      <th>MultipleLines</th>\n      <td>-0.020538</td>\n      <td>1.000000</td>\n      <td>-0.109216</td>\n      <td>0.007141</td>\n      <td>0.117327</td>\n      <td>0.122318</td>\n      <td>0.011466</td>\n      <td>0.175059</td>\n      <td>0.180957</td>\n      <td>0.433576</td>\n    </tr>\n    <tr>\n      <th>InternetService</th>\n      <td>0.387436</td>\n      <td>-0.109216</td>\n      <td>1.000000</td>\n      <td>-0.028416</td>\n      <td>0.036138</td>\n      <td>0.044944</td>\n      <td>-0.026047</td>\n      <td>0.107417</td>\n      <td>0.098350</td>\n      <td>-0.323260</td>\n    </tr>\n    <tr>\n      <th>OnlineSecurity</th>\n      <td>-0.015198</td>\n      <td>0.007141</td>\n      <td>-0.028416</td>\n      <td>1.000000</td>\n      <td>0.185126</td>\n      <td>0.175985</td>\n      <td>0.285028</td>\n      <td>0.044669</td>\n      <td>0.055954</td>\n      <td>-0.053878</td>\n    </tr>\n    <tr>\n      <th>OnlineBackup</th>\n      <td>0.024105</td>\n      <td>0.117327</td>\n      <td>0.036138</td>\n      <td>0.185126</td>\n      <td>1.000000</td>\n      <td>0.187757</td>\n      <td>0.195748</td>\n      <td>0.147186</td>\n      <td>0.136722</td>\n      <td>0.119777</td>\n    </tr>\n    <tr>\n      <th>DeviceProtection</th>\n      <td>0.003727</td>\n      <td>0.122318</td>\n      <td>0.044944</td>\n      <td>0.175985</td>\n      <td>0.187757</td>\n      <td>1.000000</td>\n      <td>0.240593</td>\n      <td>0.276652</td>\n      <td>0.288799</td>\n      <td>0.163652</td>\n    </tr>\n    <tr>\n      <th>TechSupport</th>\n      <td>-0.019158</td>\n      <td>0.011466</td>\n      <td>-0.026047</td>\n      <td>0.285028</td>\n      <td>0.195748</td>\n      <td>0.240593</td>\n      <td>1.000000</td>\n      <td>0.161305</td>\n      <td>0.161316</td>\n      <td>-0.008682</td>\n    </tr>\n    <tr>\n      <th>StreamingTV</th>\n      <td>0.055353</td>\n      <td>0.175059</td>\n      <td>0.107417</td>\n      <td>0.044669</td>\n      <td>0.147186</td>\n      <td>0.276652</td>\n      <td>0.161305</td>\n      <td>1.000000</td>\n      <td>0.434772</td>\n      <td>0.336706</td>\n    </tr>\n    <tr>\n      <th>StreamingMovies</th>\n      <td>0.043870</td>\n      <td>0.180957</td>\n      <td>0.098350</td>\n      <td>0.055954</td>\n      <td>0.136722</td>\n      <td>0.288799</td>\n      <td>0.161316</td>\n      <td>0.434772</td>\n      <td>1.000000</td>\n      <td>0.335459</td>\n    </tr>\n    <tr>\n      <th>MonthlyCharges</th>\n      <td>0.247398</td>\n      <td>0.433576</td>\n      <td>-0.323260</td>\n      <td>-0.053878</td>\n      <td>0.119777</td>\n      <td>0.163652</td>\n      <td>-0.008682</td>\n      <td>0.336706</td>\n      <td>0.335459</td>\n      <td>1.000000</td>\n    </tr>\n  </tbody>\n</table>\n</div>"
          },
          "metadata": {}
        }
      ],
      "execution_count": 46,
      "metadata": {
        "collapsed": true,
        "jupyter": {
          "source_hidden": false,
          "outputs_hidden": false
        },
        "nteract": {
          "transient": {
            "deleting": false
          }
        },
        "gather": {
          "logged": 1618254672570
        }
      }
    },
    {
      "cell_type": "code",
      "source": [
        "The 3 services are Multiple Lines, Streaming TV and Streaming Movies"
      ],
      "outputs": [],
      "execution_count": null,
      "metadata": {
        "collapsed": true,
        "jupyter": {
          "source_hidden": false,
          "outputs_hidden": false
        },
        "nteract": {
          "transient": {
            "deleting": false
          }
        }
      }
    },
    {
      "cell_type": "markdown",
      "source": [
        "### b. If  the  telco  was  to  offer  Phone  as  a standaloneservice,  which type  of  contract would encourage customer retention?"
      ],
      "metadata": {
        "nteract": {
          "transient": {
            "deleting": false
          }
        }
      }
    },
    {
      "cell_type": "code",
      "source": [
        "pd.crosstab(data['Contract'],data['Churn'])"
      ],
      "outputs": [
        {
          "output_type": "execute_result",
          "execution_count": 52,
          "data": {
            "text/plain": "Churn             No   Yes\nContract                  \nMonth-to-month  2220  1655\nOne year        1307   166\nTwo year        1647    48",
            "text/html": "<div>\n<style scoped>\n    .dataframe tbody tr th:only-of-type {\n        vertical-align: middle;\n    }\n\n    .dataframe tbody tr th {\n        vertical-align: top;\n    }\n\n    .dataframe thead th {\n        text-align: right;\n    }\n</style>\n<table border=\"1\" class=\"dataframe\">\n  <thead>\n    <tr style=\"text-align: right;\">\n      <th>Churn</th>\n      <th>No</th>\n      <th>Yes</th>\n    </tr>\n    <tr>\n      <th>Contract</th>\n      <th></th>\n      <th></th>\n    </tr>\n  </thead>\n  <tbody>\n    <tr>\n      <th>Month-to-month</th>\n      <td>2220</td>\n      <td>1655</td>\n    </tr>\n    <tr>\n      <th>One year</th>\n      <td>1307</td>\n      <td>166</td>\n    </tr>\n    <tr>\n      <th>Two year</th>\n      <td>1647</td>\n      <td>48</td>\n    </tr>\n  </tbody>\n</table>\n</div>"
          },
          "metadata": {}
        }
      ],
      "execution_count": 52,
      "metadata": {
        "collapsed": true,
        "jupyter": {
          "source_hidden": false,
          "outputs_hidden": false
        },
        "nteract": {
          "transient": {
            "deleting": false
          }
        },
        "gather": {
          "logged": 1618255858838
        }
      }
    },
    {
      "cell_type": "markdown",
      "source": [
        "Month-to Month Contract"
      ],
      "metadata": {
        "nteract": {
          "transient": {
            "deleting": false
          }
        }
      }
    },
    {
      "cell_type": "markdown",
      "source": [
        "## Payment"
      ],
      "metadata": {
        "nteract": {
          "transient": {
            "deleting": false
          }
        }
      }
    },
    {
      "cell_type": "markdown",
      "source": [
        "### a.If  the  company  was  to streamline  all  its  services  into  3  bouquet packages,  what monthly prices will be appropriate for the following packages to keep customers from churning:\r\n",
        "* Basic\r\n",
        "* Plus\r\n",
        "* Premium"
      ],
      "metadata": {
        "nteract": {
          "transient": {
            "deleting": false
          }
        }
      }
    },
    {
      "cell_type": "code",
      "source": [
        "data['MonthlyCharges'].describe()"
      ],
      "outputs": [
        {
          "output_type": "execute_result",
          "execution_count": 54,
          "data": {
            "text/plain": "count    7043.000000\nmean       64.761692\nstd        30.090047\nmin        18.250000\n25%        35.500000\n50%        70.350000\n75%        89.850000\nmax       118.750000\nName: MonthlyCharges, dtype: float64"
          },
          "metadata": {}
        }
      ],
      "execution_count": 54,
      "metadata": {
        "collapsed": true,
        "jupyter": {
          "source_hidden": false,
          "outputs_hidden": false
        },
        "nteract": {
          "transient": {
            "deleting": false
          }
        },
        "gather": {
          "logged": 1618256146152
        }
      }
    },
    {
      "cell_type": "code",
      "source": [
        "plt.boxplot(data['MonthlyCharges'])"
      ],
      "outputs": [
        {
          "output_type": "execute_result",
          "execution_count": 57,
          "data": {
            "text/plain": "{'whiskers': [<matplotlib.lines.Line2D at 0x7f9cdd25fa58>,\n  <matplotlib.lines.Line2D at 0x7f9cdc9a1fd0>],\n 'caps': [<matplotlib.lines.Line2D at 0x7f9cdc9a1518>,\n  <matplotlib.lines.Line2D at 0x7f9cdc620cc0>],\n 'boxes': [<matplotlib.lines.Line2D at 0x7f9cdd1b5c18>],\n 'medians': [<matplotlib.lines.Line2D at 0x7f9cdc605cc0>],\n 'fliers': [<matplotlib.lines.Line2D at 0x7f9cd6ab5f60>],\n 'means': []}"
          },
          "metadata": {}
        },
        {
          "output_type": "display_data",
          "data": {
            "text/plain": "<Figure size 432x288 with 1 Axes>",
            "image/png": "[encoded data removed]"
          },
          "metadata": {
            "needs_background": "light"
          }
        }
      ],
      "execution_count": 57,
      "metadata": {
        "collapsed": true,
        "jupyter": {
          "source_hidden": false,
          "outputs_hidden": false
        },
        "nteract": {
          "transient": {
            "deleting": false
          }
        },
        "gather": {
          "logged": 1618256246118
        }
      }
    },
    {
      "cell_type": "markdown",
      "source": [
        "* Basic 35.5\r\n",
        "* Plus 70.35\r\n",
        "* Premium 89.85\r\n"
      ],
      "metadata": {
        "nteract": {
          "transient": {
            "deleting": false
          }
        }
      }
    },
    {
      "cell_type": "markdown",
      "source": [
        "### b. Should the company strictly go paperless for their monthly billings as a technique of keeping their customers and why?"
      ],
      "metadata": {
        "nteract": {
          "transient": {
            "deleting": false
          }
        }
      }
    },
    {
      "cell_type": "code",
      "source": [
        "pd.crosstab(data['PaperlessBilling'],data['Churn'])"
      ],
      "outputs": [
        {
          "output_type": "execute_result",
          "execution_count": 61,
          "data": {
            "text/plain": "Churn               No   Yes\nPaperlessBilling            \nNo                2403   469\nYes               2771  1400",
            "text/html": "<div>\n<style scoped>\n    .dataframe tbody tr th:only-of-type {\n        vertical-align: middle;\n    }\n\n    .dataframe tbody tr th {\n        vertical-align: top;\n    }\n\n    .dataframe thead th {\n        text-align: right;\n    }\n</style>\n<table border=\"1\" class=\"dataframe\">\n  <thead>\n    <tr style=\"text-align: right;\">\n      <th>Churn</th>\n      <th>No</th>\n      <th>Yes</th>\n    </tr>\n    <tr>\n      <th>PaperlessBilling</th>\n      <th></th>\n      <th></th>\n    </tr>\n  </thead>\n  <tbody>\n    <tr>\n      <th>No</th>\n      <td>2403</td>\n      <td>469</td>\n    </tr>\n    <tr>\n      <th>Yes</th>\n      <td>2771</td>\n      <td>1400</td>\n    </tr>\n  </tbody>\n</table>\n</div>"
          },
          "metadata": {}
        }
      ],
      "execution_count": 61,
      "metadata": {
        "collapsed": true,
        "jupyter": {
          "source_hidden": false,
          "outputs_hidden": false
        },
        "nteract": {
          "transient": {
            "deleting": false
          }
        },
        "gather": {
          "logged": 1618256835392
        }
      }
    },
    {
      "cell_type": "code",
      "source": [
        "data.groupby(['PaperlessBilling','Churn'])['MonthlyCharges'].mean().reset_index()\r\n"
      ],
      "outputs": [
        {
          "output_type": "execute_result",
          "execution_count": 60,
          "data": {
            "text/plain": "  PaperlessBilling Churn  MonthlyCharges\n0               No    No       49.813962\n1               No   Yes       63.157463\n2              Yes    No       71.195525\n3              Yes   Yes       78.221429",
            "text/html": "<div>\n<style scoped>\n    .dataframe tbody tr th:only-of-type {\n        vertical-align: middle;\n    }\n\n    .dataframe tbody tr th {\n        vertical-align: top;\n    }\n\n    .dataframe thead th {\n        text-align: right;\n    }\n</style>\n<table border=\"1\" class=\"dataframe\">\n  <thead>\n    <tr style=\"text-align: right;\">\n      <th></th>\n      <th>PaperlessBilling</th>\n      <th>Churn</th>\n      <th>MonthlyCharges</th>\n    </tr>\n  </thead>\n  <tbody>\n    <tr>\n      <th>0</th>\n      <td>No</td>\n      <td>No</td>\n      <td>49.813962</td>\n    </tr>\n    <tr>\n      <th>1</th>\n      <td>No</td>\n      <td>Yes</td>\n      <td>63.157463</td>\n    </tr>\n    <tr>\n      <th>2</th>\n      <td>Yes</td>\n      <td>No</td>\n      <td>71.195525</td>\n    </tr>\n    <tr>\n      <th>3</th>\n      <td>Yes</td>\n      <td>Yes</td>\n      <td>78.221429</td>\n    </tr>\n  </tbody>\n</table>\n</div>"
          },
          "metadata": {}
        }
      ],
      "execution_count": 60,
      "metadata": {
        "collapsed": true,
        "jupyter": {
          "source_hidden": false,
          "outputs_hidden": false
        },
        "nteract": {
          "transient": {
            "deleting": false
          }
        },
        "gather": {
          "logged": 1618256724163
        }
      }
    },
    {
      "cell_type": "code",
      "source": [
        "No since  the probability of the customer churning is"
      ],
      "outputs": [],
      "execution_count": null,
      "metadata": {
        "collapsed": true,
        "jupyter": {
          "source_hidden": false,
          "outputs_hidden": false
        },
        "nteract": {
          "transient": {
            "deleting": false
          }
        }
      }
    }
  ],
  "metadata": {
    "kernelspec": {
      "name": "python3-azureml",
      "language": "python",
      "display_name": "Python 3.6 - AzureML"
    },
    "language_info": {
      "name": "python",
      "version": "3.6.9",
      "mimetype": "text/x-python",
      "codemirror_mode": {
        "name": "ipython",
        "version": 3
      },
      "pygments_lexer": "ipython3",
      "nbconvert_exporter": "python",
      "file_extension": ".py"
    },
    "kernel_info": {
      "name": "python3-azureml"
    },
    "nteract": {
      "version": "nteract-front-end@1.0.0"
    },
    "microsoft": {
      "host": {
        "AzureML": {
          "notebookHasBeenCompleted": true
        }
      }
    }
  },
  "nbformat": 4,
  "nbformat_minor": 2
}